{
 "cells": [
  {
   "cell_type": "code",
   "execution_count": 1,
   "metadata": {},
   "outputs": [
    {
     "name": "stdout",
     "output_type": "stream",
     "text": [
      "1\n",
      "2\n",
      "3\n",
      "\n"
     ]
    },
    {
     "ename": "ValueError",
     "evalue": "invalid literal for int() with base 10: ''",
     "output_type": "error",
     "traceback": [
      "\u001b[1;31m---------------------------------------------------------------------------\u001b[0m",
      "\u001b[1;31mValueError\u001b[0m                                Traceback (most recent call last)",
      "\u001b[1;32m<ipython-input-1-aaf928103518>\u001b[0m in \u001b[0;36m<module>\u001b[1;34m\u001b[0m\n\u001b[0;32m      6\u001b[0m     \u001b[0mi\u001b[0m \u001b[1;33m=\u001b[0m \u001b[1;36m0\u001b[0m\u001b[1;33m\u001b[0m\u001b[1;33m\u001b[0m\u001b[0m\n\u001b[0;32m      7\u001b[0m     \u001b[1;32mwhile\u001b[0m \u001b[0mi\u001b[0m \u001b[1;33m<\u001b[0m \u001b[0mtotal\u001b[0m\u001b[1;33m:\u001b[0m\u001b[1;33m\u001b[0m\u001b[1;33m\u001b[0m\u001b[0m\n\u001b[1;32m----> 8\u001b[1;33m         \u001b[0mnum\u001b[0m \u001b[1;33m=\u001b[0m \u001b[0mint\u001b[0m\u001b[1;33m(\u001b[0m\u001b[0minput\u001b[0m\u001b[1;33m(\u001b[0m\u001b[1;33m)\u001b[0m\u001b[1;33m)\u001b[0m\u001b[1;33m\u001b[0m\u001b[1;33m\u001b[0m\u001b[0m\n\u001b[0m",
      "\u001b[1;31mValueError\u001b[0m: invalid literal for int() with base 10: ''"
     ]
    }
   ],
   "source": [
    "entries = int(input())\n",
    "total = 0\n",
    "\n",
    "while total < entries:\n",
    "    total += 1\n",
    "    i = 0\n",
    "    while i < total:\n",
    "        num = int(input())"
   ]
  },
  {
   "cell_type": "markdown",
   "metadata": {},
   "source": [
    "maximum = 0\n",
    "minimum = 0\n",
    "\n",
    "while True:\n",
    "    number = int(input())\n",
    "\n",
    "    if maximum is None or number > maximum:\n",
    "            maximum = number\n",
    "    elif minimum is None or number < minimum:\n",
    "            minimum = number\n",
    "    else: break\n",
    "        \n",
    "\n",
    "print(\"Maximum\", maximum)\n",
    "print(\"Minimum\", minimum)\n",
    "        "
   ]
  },
  {
   "cell_type": "markdown",
   "metadata": {},
   "source": [
    "### entries = int(input())\n",
    "total = 0\n",
    "minimum = 0\n",
    "maximum = 0\n",
    "\n",
    "while True:\n",
    "    number = int(input())\n",
    "    i = 0\n",
    "    if number < entries:\n",
    "        if number > maximum:\n",
    "            maximum = number\n",
    "            i += 1\n",
    "        elif number < minimum:\n",
    "            minimum = number\n",
    "    \n",
    "    else:\n",
    "        break\n",
    "            \n",
    "print(maximum)\n",
    "print(minimum)"
   ]
  },
  {
   "cell_type": "code",
   "execution_count": 28,
   "metadata": {
    "scrolled": true
   },
   "outputs": [
    {
     "name": "stdout",
     "output_type": "stream",
     "text": [
      "Enter a number: 1\n",
      "Enter a number: 2\n",
      "Enter a number: 3\n",
      "Enter a number: 4\n",
      "Enter a number: done\n",
      "Maximum is 4\n",
      "Minimum is None\n"
     ]
    }
   ],
   "source": [
    " largest = None\n",
    " smallest = None\n",
    "\n",
    " while True:\n",
    "\n",
    "     num = input(\"Enter a number: \")\n",
    "\n",
    "     if num == \"done\":\n",
    "         break\n",
    "\n",
    "     if largest is None or num > largest:\n",
    "         largest = num\n",
    "     elif smallest is None or num < smallest:\n",
    "         smallest = num\n",
    "\n",
    " print (\"Maximum is\", largest)\n",
    " print (\"Minimum is\", smallest)"
   ]
  },
  {
   "cell_type": "code",
   "execution_count": null,
   "metadata": {},
   "outputs": [],
   "source": [
    "minimum = None\n",
    "maximum = None\n",
    "\n",
    "while True:\n",
    "    number = int(input())\n",
    "    total = 0\n",
    "    while total <= number:\n",
    "        if maximum is None or maximum < number:\n",
    "            maximum = number\n",
    "            total += 1\n",
    "        elif minimum is None or minimum > number:\n",
    "            minimum = number\n",
    "            total += 1\n",
    "\n",
    "\n",
    "# diff = maximum - minimum\n",
    "\n",
    "print(\"Maximum\", maximum)\n",
    "print(\"Minimum\", minimum)\n",
    "# print(\"Range\", diff)"
   ]
  },
  {
   "cell_type": "code",
   "execution_count": 4,
   "metadata": {},
   "outputs": [
    {
     "name": "stdout",
     "output_type": "stream",
     "text": [
      "\n"
     ]
    },
    {
     "ename": "ValueError",
     "evalue": "invalid literal for int() with base 10: ''",
     "output_type": "error",
     "traceback": [
      "\u001b[1;31m---------------------------------------------------------------------------\u001b[0m",
      "\u001b[1;31mValueError\u001b[0m                                Traceback (most recent call last)",
      "\u001b[1;32m<ipython-input-4-3a097b8fd315>\u001b[0m in \u001b[0;36m<module>\u001b[1;34m\u001b[0m\n\u001b[0;32m      3\u001b[0m \u001b[1;33m\u001b[0m\u001b[0m\n\u001b[0;32m      4\u001b[0m \u001b[1;32mwhile\u001b[0m \u001b[1;32mTrue\u001b[0m\u001b[1;33m:\u001b[0m\u001b[1;33m\u001b[0m\u001b[1;33m\u001b[0m\u001b[0m\n\u001b[1;32m----> 5\u001b[1;33m     \u001b[0mnumber\u001b[0m \u001b[1;33m=\u001b[0m \u001b[0mint\u001b[0m\u001b[1;33m(\u001b[0m\u001b[0minput\u001b[0m\u001b[1;33m(\u001b[0m\u001b[1;33m)\u001b[0m\u001b[1;33m)\u001b[0m\u001b[1;33m\u001b[0m\u001b[1;33m\u001b[0m\u001b[0m\n\u001b[0m\u001b[0;32m      6\u001b[0m     \u001b[0mtotal\u001b[0m \u001b[1;33m=\u001b[0m \u001b[1;36m0\u001b[0m\u001b[1;33m\u001b[0m\u001b[1;33m\u001b[0m\u001b[0m\n\u001b[0;32m      7\u001b[0m \u001b[1;33m\u001b[0m\u001b[0m\n",
      "\u001b[1;31mValueError\u001b[0m: invalid literal for int() with base 10: ''"
     ]
    }
   ],
   "source": [
    "minimum = None\n",
    "maximum = None\n",
    "\n",
    "while True:\n",
    "    number = int(input())\n",
    "    total = 0\n",
    "    \n",
    "    while number <= total:\n",
    "        i = int(input())\n",
    "        \n",
    "        if maximum is None or maximum < number:\n",
    "            maximum = number\n",
    "    \n",
    "        elif minimum is None or minimum > number:\n",
    "            minimum = number\n",
    "        else:\n",
    "            break\n",
    "    total += 1\n",
    "print(total)\n",
    "print(maximum)\n",
    "print(minimum)\n",
    "    \n",
    "        "
   ]
  },
  {
   "cell_type": "code",
   "execution_count": null,
   "metadata": {},
   "outputs": [],
   "source": [
    "# minimum = None\n",
    "# maximum = None\n",
    "\n",
    "number = int(input())\n",
    "total = 0\n",
    "    \n",
    "while number <= total:\n",
    "    total += 1\n",
    "    print(number)\n",
    "print(total)\n",
    "# print(maximum)"
   ]
  },
  {
   "cell_type": "code",
   "execution_count": 23,
   "metadata": {},
   "outputs": [],
   "source": [
    "x = 5\n",
    "\n",
    "while x < 5:\n",
    "    print(x)\n",
    "    x += 1\n",
    "    "
   ]
  },
  {
   "cell_type": "code",
   "execution_count": 2,
   "metadata": {},
   "outputs": [
    {
     "name": "stdout",
     "output_type": "stream",
     "text": [
      "Enter a number: 12\n",
      "Enter a number: 13\n",
      "Enter a number: 14\n",
      "Enter a number: -1\n",
      "Enter a number: done\n",
      "Maximum is 14\n",
      "Minimum is -1\n"
     ]
    }
   ],
   "source": [
    "largest = None\n",
    "smallest = None\n",
    "while True:\n",
    "    num = input('Enter a number: ')\n",
    "    if num == 'done' :\n",
    "        break\n",
    "    try:\n",
    "        number = float(num)\n",
    "    except:\n",
    "        print('Invalid input')\n",
    "        continue\n",
    "    if largest is None:\n",
    "        largest = number\n",
    "    elif largest < number:\n",
    "        largest = number\n",
    "    if smallest is None:\n",
    "        smallest = number\n",
    "    elif smallest > number:\n",
    "        smallest = number\n",
    "\n",
    "\n",
    "print(\"Maximum is\", int(largest))\n",
    "print(\"Minimum is\", int(smallest))"
   ]
  },
  {
   "cell_type": "code",
   "execution_count": null,
   "metadata": {},
   "outputs": [],
   "source": [
    "## already prints according to the number of user input, \n",
    "#but is unable to recognize minimum and max\n",
    "\n",
    "number = int(input())\n",
    "total = 0\n",
    "minimum = None\n",
    "maximum = None\n",
    "\n",
    "while total < number:\n",
    "    if maximum is None or maximum < number:\n",
    "        maximum = number\n",
    "    elif minimum is None or minimum > number:\n",
    "        minimum = number\n",
    "    total += 1\n",
    "    print(total)\n",
    "\n",
    "\n",
    "# diff = maximum - minimum\n",
    "\n",
    "print(\"Maximum\", maximum)\n",
    "print(\"Minimum\", minimum)\n",
    "# print(\"Range\", diff)"
   ]
  },
  {
   "cell_type": "code",
   "execution_count": null,
   "metadata": {},
   "outputs": [],
   "source": []
  },
  {
   "cell_type": "code",
   "execution_count": 2,
   "metadata": {
    "scrolled": true
   },
   "outputs": [
    {
     "name": "stdout",
     "output_type": "stream",
     "text": [
      "3\n",
      "1\n",
      "2\n",
      "3\n",
      "4\n",
      "\n"
     ]
    },
    {
     "ename": "ValueError",
     "evalue": "invalid literal for int() with base 10: ''",
     "output_type": "error",
     "traceback": [
      "\u001b[1;31m---------------------------------------------------------------------------\u001b[0m",
      "\u001b[1;31mValueError\u001b[0m                                Traceback (most recent call last)",
      "\u001b[1;32m<ipython-input-2-dd3504db091d>\u001b[0m in \u001b[0;36m<module>\u001b[1;34m\u001b[0m\n\u001b[0;32m      8\u001b[0m \u001b[1;33m\u001b[0m\u001b[0m\n\u001b[0;32m      9\u001b[0m \u001b[1;32mwhile\u001b[0m \u001b[0mtotal\u001b[0m \u001b[1;33m<\u001b[0m \u001b[0mnumber\u001b[0m\u001b[1;33m:\u001b[0m\u001b[1;33m\u001b[0m\u001b[1;33m\u001b[0m\u001b[0m\n\u001b[1;32m---> 10\u001b[1;33m     \u001b[0minp\u001b[0m \u001b[1;33m=\u001b[0m \u001b[0mint\u001b[0m\u001b[1;33m(\u001b[0m\u001b[0minput\u001b[0m\u001b[1;33m(\u001b[0m\u001b[1;33m)\u001b[0m\u001b[1;33m)\u001b[0m\u001b[1;33m\u001b[0m\u001b[1;33m\u001b[0m\u001b[0m\n\u001b[0m\u001b[0;32m     11\u001b[0m     \u001b[1;32mif\u001b[0m \u001b[0mmaximum\u001b[0m \u001b[1;32mis\u001b[0m \u001b[1;32mNone\u001b[0m \u001b[1;32mor\u001b[0m \u001b[0mmaximum\u001b[0m \u001b[1;33m<\u001b[0m \u001b[0minp\u001b[0m\u001b[1;33m:\u001b[0m\u001b[1;33m\u001b[0m\u001b[1;33m\u001b[0m\u001b[0m\n\u001b[0;32m     12\u001b[0m         \u001b[0mmaximum\u001b[0m \u001b[1;33m=\u001b[0m \u001b[0minp\u001b[0m\u001b[1;33m\u001b[0m\u001b[1;33m\u001b[0m\u001b[0m\n",
      "\u001b[1;31mValueError\u001b[0m: invalid literal for int() with base 10: ''"
     ]
    }
   ],
   "source": [
    "## already prints according to the number of user input, \n",
    "#but is unable to recognize minimum and max\n",
    "\n",
    "number = int(input())\n",
    "total = 0\n",
    "minimum = None\n",
    "maximum = None\n",
    "\n",
    "while total < number:\n",
    "    inp = int(input())\n",
    "    if maximum is None or maximum < inp:\n",
    "        maximum = inp\n",
    "        continue\n",
    "    elif minimum is None or minimum > inp:\n",
    "        minimum = number\n",
    "        continue\n",
    "    total += 1\n",
    "    print(total)\n",
    "\n",
    "\n",
    "# diff = maximum - minimum\n",
    "\n",
    "print(\"Maximum\", maximum)\n",
    "print(\"Minimum\", minimum)\n",
    "# print(\"Range\", diff)"
   ]
  },
  {
   "cell_type": "code",
   "execution_count": 16,
   "metadata": {
    "scrolled": true
   },
   "outputs": [
    {
     "name": "stdout",
     "output_type": "stream",
     "text": [
      "3\n",
      "2\n",
      "1\n",
      "-1\n",
      "Maximum: 3\n",
      "Minimum: 1\n",
      "Range: 2\n"
     ]
    }
   ],
   "source": [
    "#closest answer\n",
    "#infinitely asks prompt unless number is outside the range\n",
    "total = 0\n",
    "minimum = None\n",
    "maximum = None\n",
    "\n",
    "while True:\n",
    "    number = int(input())\n",
    "    if 0 <= number <= 1000:\n",
    "        if maximum is None or maximum < number:\n",
    "            maximum = number\n",
    "        elif minimum is None or minimum > number:\n",
    "            minimum = number\n",
    "        \n",
    "    else:\n",
    "        break\n",
    "        \n",
    "diff = maximum - minimum\n",
    "\n",
    "print('Maximum:', maximum)\n",
    "print('Minimum:', minimum)\n",
    "print(\"Range:\", str(diff))"
   ]
  },
  {
   "cell_type": "code",
   "execution_count": null,
   "metadata": {},
   "outputs": [],
   "source": [
    "total = 0\n",
    "minimum = None\n",
    "maximum = None\n",
    "\n",
    "while True:\n",
    "    number = int(input())\n",
    "    while number < total:\n",
    "        if 0 <= number <= 1000:\n",
    "            if maximum is None or maximum < number:\n",
    "                maximum = number\n",
    "            elif minimum is None or minimum > number:\n",
    "                minimum = number\n",
    "        total += 1\n",
    "        \n",
    "    else:\n",
    "        break\n",
    "\n",
    "print('Maximum', maximum)\n",
    "print('Minimum', minimum)\n",
    "        \n",
    "#3\n",
    "#Maximumm NOne\n",
    "#Minimum None"
   ]
  },
  {
   "cell_type": "code",
   "execution_count": 36,
   "metadata": {},
   "outputs": [
    {
     "name": "stdout",
     "output_type": "stream",
     "text": [
      "5\n"
     ]
    }
   ],
   "source": [
    "def difference(a, b):\n",
    "    if a < 0:\n",
    "        return -a\n",
    "    if b < 0:\n",
    "        return -b\n",
    "    difference = -(a - b)\n",
    "    return difference \n",
    "\n",
    "print(difference(1, -5))"
   ]
  },
  {
   "cell_type": "code",
   "execution_count": null,
   "metadata": {},
   "outputs": [],
   "source": [
    "while True:\n",
    "    cases = int(input())\n",
    "    total = 0\n",
    "    while total < cases:\n",
    "        total += 1\n",
    "        num = int(input())\n",
    "        print(cases)\n",
    "#     print(total)\n",
    "    continue\n",
    "    \n",
    "    "
   ]
  },
  {
   "cell_type": "code",
   "execution_count": 37,
   "metadata": {},
   "outputs": [
    {
     "name": "stdout",
     "output_type": "stream",
     "text": [
      "3\n",
      "21\n",
      "13\n",
      "12\n",
      "Maximum: 3\n",
      "Minimum: 3\n",
      "Range: 0\n"
     ]
    }
   ],
   "source": [
    "total = 0\n",
    "minimum = None\n",
    "maximum = None\n",
    "\n",
    "number = int(input())\n",
    "while total < number:\n",
    "    if maximum is None or maximum < number:\n",
    "        maximum = number\n",
    "    elif minimum is None or maximum > number:\n",
    "        minimum = number\n",
    "    total += 1\n",
    "    more_num = int(input())\n",
    "        \n",
    "diff = maximum - minimum\n",
    "\n",
    "print('Maximum:', maximum)\n",
    "print('Minimum:', minimum)\n",
    "print(\"Range:\", str(diff))"
   ]
  },
  {
   "cell_type": "code",
   "execution_count": 9,
   "metadata": {},
   "outputs": [
    {
     "name": "stdout",
     "output_type": "stream",
     "text": [
      "3\n",
      "9\n",
      "1\n",
      "11\n",
      "Maximum = 11\n",
      "Minimum = 1\n",
      "Range = 10\n"
     ]
    }
   ],
   "source": [
    "total = 0\n",
    "maximum = None\n",
    "minimum = None\n",
    "\n",
    "number = int(input())\n",
    "while total < number:\n",
    "    new_num = int(input())\n",
    "    if maximum is None or maximum < new_num:\n",
    "        maximum = new_num\n",
    "    elif minimum is None or minimum > new_num:\n",
    "        minimum = new_num\n",
    "    total += 1\n",
    "\n",
    "diff = maximum - minimum\n",
    "\n",
    "print(\"Maximum =\", maximum)\n",
    "print(\"Minimum =\", minimum)\n",
    "print(\"Range =\", str(diff))"
   ]
  },
  {
   "cell_type": "code",
   "execution_count": 2,
   "metadata": {},
   "outputs": [
    {
     "data": {
      "text/plain": [
       "1"
      ]
     },
     "execution_count": 2,
     "metadata": {},
     "output_type": "execute_result"
    }
   ],
   "source": [
    "def difference(a, b):\n",
    "    if a > b:\n",
    "        difference = a - b\n",
    "    elif a < b:\n",
    "        difference = b - a\n",
    "    return difference\n",
    "\n",
    "difference(1, 2)"
   ]
  },
  {
   "cell_type": "code",
   "execution_count": 3,
   "metadata": {},
   "outputs": [
    {
     "name": "stdout",
     "output_type": "stream",
     "text": [
      "2\n"
     ]
    }
   ],
   "source": [
    "def difference(a, b):\n",
    "    if a > b:\n",
    "        difference = a - b\n",
    "    elif a < b:\n",
    "        difference = b - a\n",
    "    return difference\n",
    "\n",
    "difference(1, 2)\n",
    "\n",
    "cases = int(input())\n",
    "total = 0\n",
    "while cases < total:\n",
    "    case_a = int(input())\n",
    "    case_b = int(input())\n",
    "    print(difference(case_a, case_bs))\n",
    "    total += 1"
   ]
  },
  {
   "cell_type": "code",
   "execution_count": 6,
   "metadata": {},
   "outputs": [
    {
     "data": {
      "text/plain": [
       "-3"
      ]
     },
     "execution_count": 6,
     "metadata": {},
     "output_type": "execute_result"
    }
   ],
   "source": [
    "def negate(a):\n",
    "    neg = -a\n",
    "    return neg\n",
    "\n",
    "negate(3)"
   ]
  },
  {
   "cell_type": "code",
   "execution_count": 7,
   "metadata": {},
   "outputs": [
    {
     "data": {
      "text/plain": [
       "7"
      ]
     },
     "execution_count": 7,
     "metadata": {},
     "output_type": "execute_result"
    }
   ],
   "source": [
    "def add(a, b):\n",
    "    total = a + b\n",
    "    return total\n",
    "\n",
    "add(3, 4)"
   ]
  },
  {
   "cell_type": "code",
   "execution_count": 10,
   "metadata": {},
   "outputs": [
    {
     "data": {
      "text/plain": [
       "4"
      ]
     },
     "execution_count": 10,
     "metadata": {},
     "output_type": "execute_result"
    }
   ],
   "source": [
    "def maximum(a, b, c):\n",
    "    if a > b and a > c:\n",
    "        big = a\n",
    "    elif b > a and b > c:\n",
    "        big = b\n",
    "    elif c > a and c > b:\n",
    "        big = c\n",
    "    return big\n",
    "\n",
    "maximum(1,4,3)"
   ]
  },
  {
   "cell_type": "code",
   "execution_count": 12,
   "metadata": {},
   "outputs": [
    {
     "name": "stdout",
     "output_type": "stream",
     "text": [
      "maximum\n",
      "1\n",
      "2\n",
      "3\n",
      "3\n",
      "add\n"
     ]
    },
    {
     "ename": "ValueError",
     "evalue": "invalid literal for int() with base 10: 'add'",
     "output_type": "error",
     "traceback": [
      "\u001b[1;31m---------------------------------------------------------------------------\u001b[0m",
      "\u001b[1;31mValueError\u001b[0m                                Traceback (most recent call last)",
      "\u001b[1;32m<ipython-input-12-376d815051f3>\u001b[0m in \u001b[0;36m<module>\u001b[1;34m\u001b[0m\n\u001b[0;32m     30\u001b[0m \u001b[1;33m\u001b[0m\u001b[0m\n\u001b[0;32m     31\u001b[0m     \u001b[1;32melif\u001b[0m \u001b[0mprompt\u001b[0m \u001b[1;33m==\u001b[0m \u001b[1;34m\"maximum\"\u001b[0m\u001b[1;33m:\u001b[0m\u001b[1;33m\u001b[0m\u001b[1;33m\u001b[0m\u001b[0m\n\u001b[1;32m---> 32\u001b[1;33m         \u001b[0mnumber_a\u001b[0m \u001b[1;33m=\u001b[0m \u001b[0mint\u001b[0m\u001b[1;33m(\u001b[0m\u001b[0minput\u001b[0m\u001b[1;33m(\u001b[0m\u001b[1;33m)\u001b[0m\u001b[1;33m)\u001b[0m\u001b[1;33m\u001b[0m\u001b[1;33m\u001b[0m\u001b[0m\n\u001b[0m\u001b[0;32m     33\u001b[0m         \u001b[0mnumber_b\u001b[0m \u001b[1;33m=\u001b[0m \u001b[0mint\u001b[0m\u001b[1;33m(\u001b[0m\u001b[0minput\u001b[0m\u001b[1;33m(\u001b[0m\u001b[1;33m)\u001b[0m\u001b[1;33m)\u001b[0m\u001b[1;33m\u001b[0m\u001b[1;33m\u001b[0m\u001b[0m\n\u001b[0;32m     34\u001b[0m         \u001b[0mnumber_c\u001b[0m \u001b[1;33m=\u001b[0m \u001b[0mint\u001b[0m\u001b[1;33m(\u001b[0m\u001b[0minput\u001b[0m\u001b[1;33m(\u001b[0m\u001b[1;33m)\u001b[0m\u001b[1;33m)\u001b[0m\u001b[1;33m\u001b[0m\u001b[1;33m\u001b[0m\u001b[0m\n",
      "\u001b[1;31mValueError\u001b[0m: invalid literal for int() with base 10: 'add'"
     ]
    }
   ],
   "source": [
    "def negate(a):\n",
    "    neg = -a\n",
    "    return neg\n",
    "\n",
    "def add(a, b):\n",
    "    total = a + b\n",
    "    return total\n",
    "\n",
    "def maximum(a, b, c):\n",
    "    if a > b and a > c:\n",
    "        big = a\n",
    "    elif b > a and b > c:\n",
    "        big = b\n",
    "    elif c > a and c > b:\n",
    "        big = c\n",
    "    return big\n",
    "\n",
    "prompt = input()\n",
    "while prompt != \"stop\":\n",
    "    if prompt == \"negate\":\n",
    "        number = int(input())\n",
    "        print(negate(number))\n",
    "        continue\n",
    "        \n",
    "    elif prompt == \"add\":\n",
    "        number_a = int(input())\n",
    "        number_b = int(input())\n",
    "        print(add(number_a, number_b))\n",
    "        continue  \n",
    "        \n",
    "    elif prompt == \"maximum\":\n",
    "        number_a = int(input())\n",
    "        number_b = int(input())\n",
    "        number_c = int(input())\n",
    "        print(maximum(number_a, number_b, number_c))\n",
    "        continue"
   ]
  }
 ],
 "metadata": {
  "kernelspec": {
   "display_name": "Python 3",
   "language": "python",
   "name": "python3"
  },
  "language_info": {
   "codemirror_mode": {
    "name": "ipython",
    "version": 3
   },
   "file_extension": ".py",
   "mimetype": "text/x-python",
   "name": "python",
   "nbconvert_exporter": "python",
   "pygments_lexer": "ipython3",
   "version": "3.8.5"
  }
 },
 "nbformat": 4,
 "nbformat_minor": 4
}
